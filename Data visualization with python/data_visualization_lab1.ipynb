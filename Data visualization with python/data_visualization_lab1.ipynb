{
 "cells": [
  {
   "cell_type": "markdown",
   "metadata": {},
   "source": [
    "<p style=\"text-align:center\">\n",
    "    <a href=\"https://skills.network/?utm_medium=Exinfluencer&utm_source=Exinfluencer&utm_content=000026UJ&utm_term=10006555&utm_id=NA-SkillsNetwork-Channel-SkillsNetworkCoursesIBMDeveloperSkillsNetworkDV0101ENSkillsNetwork970-2023-01-01\">\n",
    "    </a>\n",
    "</p>\n",
    "\n",
    "# Data Visualization\n",
    "\n",
    "Estimated time needed: **30** minutes\n",
    "\n",
    "## Objectives\n",
    "\n",
    "Después de terminar este lab seras capas de:\n",
    "\n",
    "*   Visualizar Información con Python\n",
    "*   Usar multiples librerías para visualizar información con Python\n"
   ]
  },
  {
   "cell_type": "markdown",
   "metadata": {},
   "source": [
    "## Introducción\n",
    "El objetivo de este laboratorio es introducirte a data visualization con Python de forma mas concreta y consistente posible. Hablando de consistencia, por que no hay una *mejor* librería de visualización disponible para python -hasta la creación de este lab- te introduciremos a diferentes librerías y te mostraremos sus beneficios cuando estaremos discutiendo nuevos conceptos de visualización. Haciendo esto, esperamos que el estudiante adquiera conocimientos variados sobre las bibliotecas y conceptos de visualización, de modo que puedan evaluar y decidir sobre la mejor técnica y herramienta de visualización para un problem y audiencia específicos\n",
    "\n",
    "Por favor que has completado los pre requisitos para este curso,  [**Python Basics for Data Science**](https://www.edx.org/course/python-basics-for-data-science-2?utm_medium=Exinfluencer&utm_source=Exinfluencer&utm_content=000026UJ&utm_term=10006555&utm_id=NA-SkillsNetwork-Channel-SkillsNetworkCoursesIBMDeveloperSkillsNetworkDV0101ENSkillsNetwork20297740-2021-01-01) and [**Analyzing Data with Python**](https://www.edx.org/course/data-analysis-with-python?utm_medium=Exinfluencer&utm_source=Exinfluencer&utm_content=000026UJ&utm_term=10006555&utm_id=NA-SkillsNetwork-Channel-SkillsNetworkCoursesIBMDeveloperSkillsNetworkDV0101ENSkillsNetwork20297740-2021-01-01).\n",
    "\n",
    "**Nota**: La mayoría de los gráficos y las visualizaciones sera generadas usando información almacenada en dataframes de pandas. Por lo tanto, en este laboratorio, Proporcionaremos un pequeño curso introductorio de pandas. Si te interesa aprender mas sobre la librería pandas, la descripción detallada y explicación de como se usa y como se limpia, la jerarquía, y procesamiento de la información almacenada en pandas son entregadas en este curso [**Analyzing Data with Python**](https://www.edx.org/course/data-analysis-with-python?utm_medium=Exinfluencer&utm_source=Exinfluencer&utm_content=000026UJ&utm_term=10006555&utm_id=NA-SkillsNetwork-Channel-SkillsNetworkCoursesIBMDeveloperSkillsNetworkDV0101ENSkillsNetwork20297740-2021-01-01)."
   ]
  },
  {
   "cell_type": "markdown",
   "metadata": {},
   "source": [
    "# Explorando Datasets con *pandas* <a id=\"0\"></a>\n",
    "\n",
    "*pandas* es una herramienta esencial para el análisis de datos en Python. Desde su [website](http://pandas.pydata.org/?utm_medium=Exinfluencer&utm_source=Exinfluencer&utm_content=000026UJ&utm_term=10006555&utm_id=NA-SkillsNetwork-Channel-SkillsNetworkCoursesIBMDeveloperSkillsNetworkDV0101ENSkillsNetwork20297740-2021-01-01):\n",
    "\n",
    "> *pandas* es un paquete de Python que provee una estructura de datos rápida, flexible y expresiva diseñada para trabajar con información \"relational\" o \"labeled\". Apunta a ser fundamental el bloque de alto nivel para data análisis practico en el **mundo real**.\n",
    "\n",
    "El curso depende fuertemente de pandas *pandas* para la manipulación de datos, análisis, y visualización . Te alentamos fuertemente a que inviertas un poco de tu tiempo para familiarizarte con *pandas* API Reference: [http://pandas.pydata.org/pandas-docs/stable/api.html](http://pandas.pydata.org/pandas-docs/stable/api.html?utm_medium=Exinfluencer&utm_source=Exinfluencer&utm_content=000026UJ&utm_term=10006555&utm_id=NA-SkillsNetwork-Channel-SkillsNetworkCoursesIBMDeveloperSkillsNetworkDV0101ENSkillsNetwork20297740-2021-01-01).\n"
   ]
  },
  {
   "cell_type": "markdown",
   "metadata": {},
   "source": [
    "## The Dataset: Immigration a Canada desde 1980 hasta 2013 <a id=\"2\"></a>\n"
   ]
  },
  {
   "cell_type": "markdown",
   "metadata": {},
   "source": [
    "Fuente del Dataset : [International migration flows to and from selected countries - The 2015 revision](http://www.un.org/en/development/desa/population/migration/data/empirical2/migrationflows.shtml?utm_medium=Exinfluencer&utm_source=Exinfluencer&utm_content=000026UJ&utm_term=10006555&utm_id=NA-SkillsNetwork-Channel-SkillsNetworkCoursesIBMDeveloperSkillsNetworkDV0101ENSkillsNetwork20297740-2021-01-01).\n",
    "\n",
    "El dataset contiene información anual del flujo de inmigrantes internacionales registrados por los países de destino. La información presenta ambos flujos entradas a los países y salidas de a cuerdo al país de nacimiento, ciudadanía o lugar previo y futuro de residencia para ambos extranjeros y nacionales. La actual versión contiene la información de 45 países.\n",
    "\n",
    "En este lab, nos enfocaremos en la información de inmigración de Canada.\n",
    "\n",
    "![Data Preview](https://cf-courses-data.s3.us.cloud-object-storage.appdomain.cloud/IBMDeveloperSkillsNetwork-DV0101EN-SkillsNetwork/labs/Module%201/images/DataSnapshot.png)\n",
    "\n",
    "The Canada Immigration dataset can be fetched from <a href=\"https://cf-courses-data.s3.us.cloud-object-storage.appdomain.cloud/IBMDeveloperSkillsNetwork-DV0101EN-SkillsNetwork/Data%20Files/Canada.xlsx?utm_medium=Exinfluencer&utm_source=Exinfluencer&utm_content=000026UJ&utm_term=10006555&utm_id=NA-SkillsNetwork-Channel-SkillsNetworkCoursesIBMDeveloperSkillsNetworkDV0101ENSkillsNetwork20297740-2021-01-01\">here</a>.\n",
    "\n",
    "***\n"
   ]
  },
  {
   "cell_type": "markdown",
   "metadata": {},
   "source": []
  }
 ],
 "metadata": {
  "language_info": {
   "name": "python"
  }
 },
 "nbformat": 4,
 "nbformat_minor": 2
}
