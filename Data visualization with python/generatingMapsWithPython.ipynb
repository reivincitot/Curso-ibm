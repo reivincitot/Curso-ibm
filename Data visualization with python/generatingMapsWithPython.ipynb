{
 "cells": [
  {
   "cell_type": "markdown",
   "metadata": {},
   "source": [
    "## Introducción\n",
    "\n",
    "En este lab, aprenderemos como crear mapas para diferentes objetivos. Para hacer eso, nos separaremos de Matplotlib y trabajaremos con otra librería de visualización de Python, llamada **Folium**. Que es lo bueno acerca de **Folium** es que fue desarrollada con el único propósito de visualizar información geoespacial. Mientras que hay otras librearias que se encuentran disponibles para visualizar información geoespacial, tales como **plotly**, \"Puede que tengan un límite en la cantidad de llamadas a la API que puedes hacer dentro de un período de tiempo definido.\"\n"
   ]
  },
  {
   "cell_type": "markdown",
   "metadata": {},
   "source": [
    "## Tabla de contenidos\n",
    "\n",
    "<div class=\"alert alert-block alert-info\" style=\"margin-top: 20px\">\n",
    "\n",
    "1.  [Explorando dataset con *pandas*](#0)<br>\n",
    "2.  [Descargando y preparando la información](#2)<br>\n",
    "3.  [Introducción a Folium](#4) <br>\n",
    "4.  [Mapas con Marcadores](#6) <br>\n",
    "5.  [Mapas Choropleth](#8) <br>\n",
    "\n",
    "</div>"
   ]
  },
  {
   "cell_type": "markdown",
   "metadata": {},
   "source": [
    "# Explorando Datasets con *pandas* y Matplotlib<a id=\"0\"></a>\n",
    "\n",
    "Herramientas: Este lab depende fuertemente de [*pandas*](http://pandas.pydata.org/?utm_medium=Exinfluencer&utm_source=Exinfluencer&utm_content=000026UJ&utm_term=10006555&utm_id=NA-SkillsNetwork-Channel-SkillsNetworkCoursesIBMDeveloperSkillsNetworkDV0101ENSkillsNetwork20297740-2021-01-01) y [*Numpy*](http://www.numpy.org/?utm_medium=Exinfluencer&utm_source=Exinfluencer&utm_content=000026UJ&utm_term=10006555&utm_id=NA-SkillsNetwork-Channel-SkillsNetworkCoursesIBMDeveloperSkillsNetworkDV0101ENSkillsNetwork20297740-2021-01-01) Para preparar información, analizarla, y visualizarla. La librería que exploraremos principalmente en este lab es [**Folium**](https://github.com/python-visualization/folium/).\n",
    "\n",
    "Datasets:\n",
    "\n",
    "1.  Departamento de policía de San Francisco Incidentes para el año 2016- [Police Department Incidents](https://data.sfgov.org/Public-Safety/Police-Department-Incidents-Previous-Year-2016-/ritf-b9ki?utm_medium=Exinfluencer&utm_source=Exinfluencer&utm_content=000026UJ&utm_term=10006555&utm_id=NA-SkillsNetwork-Channel-SkillsNetworkCoursesIBMDeveloperSkillsNetworkDV0101ENSkillsNetwork20297740-2021-01-01) del porta de información publica San Francisco . Incidentes derivados de departamento de Policía de San Francisco (SFPD) sistema de Reporte de Crímenes. Actualizado a diario, mostrado información por el año 2016 completo. Locación y dirección han sido anonimizadas para moverlas a un bloque medio o a una intersección.\n",
    "\n",
    "2.  Inmigración a Canada desde 1980 hasta el 2013 - [International migration flows to and from selected countries - The 2015 revision](http://www.un.org/en/development/desa/population/migration/data/empirical2/migrationflows.shtml?utm_medium=Exinfluencer&utm_source=Exinfluencer&utm_content=000026UJ&utm_term=10006555&utm_id=NA-SkillsNetwork-Channel-SkillsNetworkCoursesIBMDeveloperSkillsNetworkDV0101ENSkillsNetwork20297740-2021-01-01) de la pagina web de las Naciones Unidas. El dataset contiene información anual del flujo de inmigrantes internacionales registrado por el país de destino. La información presenta ingresos como salidas de acuerdo al lugar de nacimiento , ciudadanía o lugar previo / siguiente residencia tanto como para extranjeros como nacionales. Para esta lección, nos enfocaremos en la información de migración de Canada.\n"
   ]
  },
  {
   "cell_type": "markdown",
   "metadata": {},
   "source": [
    "# Descargando y Preparando la Información <a id=\"2\"></a>\n"
   ]
  },
  {
   "cell_type": "markdown",
   "metadata": {},
   "source": [
    "Lo primero que haremos sera instalar **openpyxl** (anteriormente **xlrd**), un módulo que *pandas* necesita para poder leer archivos Excel."
   ]
  },
  {
   "cell_type": "markdown",
   "metadata": {},
   "source": [
    "import piplite\n",
    "\n",
    "await piplite.install(['openpyxl==3.0.9', 'folium'])"
   ]
  },
  {
   "cell_type": "markdown",
   "metadata": {},
   "source": [
    "Importamos los módulos primarios"
   ]
  },
  {
   "cell_type": "code",
   "execution_count": null,
   "metadata": {},
   "outputs": [],
   "source": [
    "import numpy as np\n",
    "import matplotlib as mtp\n",
    "import matplotlib.pyplot as plt"
   ]
  },
  {
   "cell_type": "markdown",
   "metadata": {},
   "source": []
  }
 ],
 "metadata": {
  "kernelspec": {
   "display_name": "venv",
   "language": "python",
   "name": "python3"
  },
  "language_info": {
   "name": "python",
   "version": "3.11.4"
  }
 },
 "nbformat": 4,
 "nbformat_minor": 2
}
